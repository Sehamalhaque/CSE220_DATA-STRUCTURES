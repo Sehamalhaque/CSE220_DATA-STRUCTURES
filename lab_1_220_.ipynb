{
  "cells": [
    {
      "cell_type": "markdown",
      "metadata": {
        "id": "Ht89HDg2rNZE"
      },
      "source": []
    },
    {
      "cell_type": "markdown",
      "metadata": {
        "id": "BRhpfFDIrpes"
      },
      "source": [
        "1 Shift Left k Cells Consider an array named source. Write a method/function named shiftLeft( source, k) that shifts all the elements of the source array to the left by 'k' positions. You must execute the method by passing an array and number of cells to be shifted. After calling the method, print the array to show whether the elements have been shifted properly. Example: source=[10,20,30,40,50,60] shiftLeft(source,3) After calling shiftLeft(source,3), printing the array should give the output as: [ 40, 50, 60, 0, 0, 0 ]"
      ]
    },
    {
      "cell_type": "code",
      "execution_count": null,
      "metadata": {
        "colab": {
          "base_uri": "https://localhost:8080/"
        },
        "id": "LWQHaQm_KPey",
        "outputId": "47e6ae42-2002-4644-ebfe-75e752d8d7b1"
      },
      "outputs": [
        {
          "name": "stdout",
          "output_type": "stream",
          "text": [
            "[40, 50, 60, 0, 0, 0]\n"
          ]
        }
      ],
      "source": [
        "def shiftLeft(source, k):\n",
        "    length = len(source)   # Taking the length of the given array and recording it, lenght =6\n",
        "    i = 0     #For loop counter \n",
        "    \n",
        "    while(i < (length - k)):  #for the first time. The loop will run three tumes \n",
        "        start = source[i]    #initally value is 10.\n",
        "        source[i] = source[i+k] #10 becomes 40 so the given array looks like [40,20,30,40,50,60]\n",
        "        source[i+k] = 0 #converting the last values to zero\n",
        "        i += 1    #increasing the loop counter \n",
        "\n",
        "source=[10,20,30,40,50,60]\n",
        "a = shiftLeft(source, 3)\n",
        "print(source)"
      ]
    },
    {
      "cell_type": "code",
      "execution_count": null,
      "metadata": {
        "colab": {
          "base_uri": "https://localhost:8080/"
        },
        "id": "5js-U70nIZif",
        "outputId": "2a80f568-6c74-4043-d513-8d2a34ea3bd3"
      },
      "outputs": [
        {
          "name": "stdout",
          "output_type": "stream",
          "text": [
            "[40, 50, 60, 0, 0, 0]\n"
          ]
        }
      ],
      "source": [
        "#Alternative \n",
        "def shiftLeft(source,k):\n",
        "    for j in range(k):\n",
        "        for i in range(0,len(source)-1):\n",
        "            source[i]=source[i+1]\n",
        "            \n",
        "        source[len(source)-1]=0\n",
        "    print(source)\n",
        "\n",
        "\n",
        "source=[10,20,30,40,50,60]\n",
        "shft=3\n",
        "shiftLeft(source,shft)"
      ]
    },
    {
      "cell_type": "markdown",
      "metadata": {
        "id": "4325VNLpKjYi"
      },
      "source": [
        "2.Rotate Left k cells \n",
        "\n",
        " Consider an array named source. Write a method/function named rotateLeft( source, k) that rotates all the elements of the source array to the left by 'k' positions. You must execute the method by passing an array and number of cells to be shifted. After calling the method, print the array to show whether the elements have been shifted properly.\n",
        "Example:\n",
        "source=[10,20,30,40,50,60]\n",
        "rotateLeft(source,3)\n",
        "After calling rotateLeft(source,3), printing the array should give the output as: \n",
        " [ 40, 50, 60, 10, 20, 30]\n",
        "\n",
        "\n",
        "\n"
      ]
    },
    {
      "cell_type": "code",
      "execution_count": null,
      "metadata": {
        "colab": {
          "base_uri": "https://localhost:8080/"
        },
        "id": "NNq-Wl0lwYFW",
        "outputId": "bf6a8a3d-6bd1-466c-ec0c-d43adec005d0"
      },
      "outputs": [
        {
          "name": "stdout",
          "output_type": "stream",
          "text": [
            "[40, 50, 60, 10, 20, 30]\n"
          ]
        }
      ],
      "source": [
        "def rotateLeft(source, k):\n",
        "    length = len(source)  # Taking the length of the given array and recording it, lenght =6\n",
        "    for i in range(k):  #running the loop for k times\n",
        "        new_value = source[0]  #for i=0, source[0]=10]\n",
        "        for i in range(1, length):\n",
        "            source[i - 1] = source[i]#[20,\t20,\t30,\t40,\t50,\t60]\n",
        "        source[length - 1] = new_value  #last index replaced \n",
        "\n",
        "\n",
        "\n",
        "source = [10, 20, 30, 40, 50, 60]\n",
        "rotateLeft(source, 3)\n",
        "print(source)"
      ]
    },
    {
      "cell_type": "markdown",
      "metadata": {
        "id": "MprTrvq9TV8I"
      },
      "source": [
        "3.Shift Right k Cells   \n",
        "\n",
        "Consider an array named source. Write a method/function named shifRight( source, k) that shifts all the elements of the source array to the right by 'k' positions. You must execute the method by passing an array and number of cells to be shifted. After calling the method, print the array to show whether the elements have been shifted properly.\n",
        "Example:\n",
        "source=[10,20,30,40,50,60]\n",
        "shiftRight(source,3)\n",
        "After calling shiftRight(source,3), printing the array should give the output as: \n",
        " [ 0,0,0,10,20,30 ]\n"
      ]
    },
    {
      "cell_type": "code",
      "execution_count": null,
      "metadata": {
        "colab": {
          "base_uri": "https://localhost:8080/"
        },
        "id": "ovg_hfV3TY82",
        "outputId": "285cb707-aa82-47df-b4f5-d4821d9c60a1"
      },
      "outputs": [
        {
          "name": "stdout",
          "output_type": "stream",
          "text": [
            "[0, 0, 0, 10, 20, 30]\n"
          ]
        }
      ],
      "source": [
        "\n",
        "def shiftright(source,k):\n",
        "  i=len(source)-1\n",
        "  while i>=k: #i=5 \n",
        "    source[i]=source[i-k] #[10,20,30,40,50,30]\n",
        "    i=i-1 # i=4\n",
        "  i=0    #resetting the counter \n",
        "  while i<k:   #i=0\n",
        "    source[i]=0     #[0,20,30,10,20,30]\n",
        "    i=i+1    \n",
        "source=[10,20,30,40,50,60]\n",
        "a = shiftright(source, 3)\n",
        "print(source)\n",
        "\n"
      ]
    },
    {
      "cell_type": "code",
      "execution_count": null,
      "metadata": {
        "id": "bYLU-72IIvtf"
      },
      "outputs": [],
      "source": [
        "#alternative \n",
        "def shiftRight(source,k):\n",
        "    for j in range(k):\n",
        "        for i in range(len(source)-1,-1,-1):\n",
        "            source[i]=source[i-1]\n",
        "        source[0]=0\n",
        "    print(source)\n",
        "    \n",
        "    \n",
        "source=[10,20,30,40,50,60]\n",
        "shft=3\n",
        "shiftRight(source,shft) "
      ]
    },
    {
      "cell_type": "markdown",
      "metadata": {
        "id": "obibTzVwaW1A"
      },
      "source": [
        "4.Rotate Right k cells \n",
        "Consider an array named source. Write a method/function named rotateRight( source, k) that rotates all the elements of the source array to the right by 'k' positions. You must execute the method by passing an array and number of cells to be shifted. After calling the method, print the array to show whether the elements have been shifted properly.\n",
        "Example:\n",
        "source=[10,20,30,40,50,60]\n",
        "rotateRight(source,3)\n",
        "After calling rotateRight(source,3), printing the array should give the output as: \n",
        " [ 40, 50, 60, 10, 20, 30]\n",
        "\n",
        "```\n",
        "\n"
      ]
    },
    {
      "cell_type": "code",
      "execution_count": null,
      "metadata": {
        "colab": {
          "base_uri": "https://localhost:8080/"
        },
        "id": "9o6ZKJrBaujb",
        "outputId": "ca2c4d4b-a5a0-4844-f0b8-7f17883cbc10"
      },
      "outputs": [
        {
          "data": {
            "text/plain": [
              "[40, 50, 60, 10, 20, 30]"
            ]
          },
          "execution_count": 14,
          "metadata": {},
          "output_type": "execute_result"
        }
      ],
      "source": [
        "\n",
        "def rotateright(source,k):\n",
        "  for i in range(0,k):   #running the loop to k\n",
        "    temp=source[len(source)-1]   #last index value which is 60 intially \n",
        "    for j in range(len(source)-1,0,-1):  #running the loop in reverse order, j=5 \n",
        "      source[j]=source[j-1]  #[10,20,30,40,50,50]\n",
        "    source[0]=temp\n",
        "    \n",
        "  return source\n",
        "\n",
        "\n",
        "source=[10,20,30,40,50,60] \n",
        "k=3\n",
        "rotateright(source,k)\n"
      ]
    },
    {
      "cell_type": "markdown",
      "metadata": {
        "id": "6jm1YYgYfSHV"
      },
      "source": [
        "5.Remove an element from an array\n",
        "\n",
        " Consider an array named source. Write a method/function named remove( source, size, idx) that removes the element in index idx of the source array. You must execute the method by passing an array, its size and the idx( that is the index of the element to be removed). After calling the method, print the array to show whether the element of that particular index has been removed properly.\n",
        "Example:\n",
        "source=[10,20,30,40,50,0,0]\n",
        "remove(source,5,2)\n",
        "After calling remove(source,5,2) , printing the array should give the output as: \n",
        " [ 10,20,40,50,0,0,0]\n"
      ]
    },
    {
      "cell_type": "code",
      "execution_count": null,
      "metadata": {
        "colab": {
          "base_uri": "https://localhost:8080/"
        },
        "id": "yoCZlnAEfZDB",
        "outputId": "e030cd42-eeb7-4d33-dcef-26e1fc46d15b"
      },
      "outputs": [
        {
          "name": "stdout",
          "output_type": "stream",
          "text": [
            "[10, 20, 40, 50, 0, 0, 0]\n"
          ]
        }
      ],
      "source": [
        "def remove(source, size, idx):\n",
        "    source_index = len(source)\n",
        "    new_list = source_index * [0]\n",
        "    x = 0\n",
        "    for values in range(size): #size=5\n",
        "        if values == idx: #if indx=loop counter,we skip \n",
        "            continue\n",
        "        else:   #else, we put tbe value in new array \n",
        "            new_list[x] = source[values]\n",
        "            x += 1  #increase increament of index of the new list \n",
        "    source = new_list  #replacing the array \n",
        "    print(source)\n",
        "\n",
        "source = [10, 20, 30, 40, 50, 0, 0]\n",
        "remove(source, 5, 2)\n"
      ]
    },
    {
      "cell_type": "code",
      "execution_count": null,
      "metadata": {
        "colab": {
          "base_uri": "https://localhost:8080/"
        },
        "id": "geIytpfF298F",
        "outputId": "5474fed4-537d-45a4-dcb9-5bae0bcc939c"
      },
      "outputs": [
        {
          "data": {
            "text/plain": [
              "[10, 20, 40, 50, 0, 0, 0]"
            ]
          },
          "execution_count": 24,
          "metadata": {},
          "output_type": "execute_result"
        }
      ],
      "source": [
        "#Alterative:\n",
        "def remove (source, size, idx):\n",
        "  for i in range (idx, size-1): #i=2\n",
        "    source[i]=source[i+1]\n",
        "\n",
        "  source[size-1]=0 #transforming the last size-value into 0\n",
        "  return source\n",
        "\n",
        "source=[10, 20, 30, 40, 50, 0, 0]\n",
        "\n",
        "remove(source, 5, 2)"
      ]
    },
    {
      "cell_type": "markdown",
      "metadata": {
        "id": "lFAqyTyxkC7g"
      },
      "source": [
        "6.Remove all occurrences of a particular element from an array\n",
        "\n",
        "Consider an array named source. Write a method/function named removeAll( source, size, element) that removes all the occurrences of the given element in the source array. You must execute the method by passing an array, its size and the element to be removed. After calling the method, print the array to show whether all the occurrences of the element have been removed properly.\n",
        "Example:\n",
        "source=[10,2,30,2,50,2,2,0,0]\n",
        "removeAll(source,7,2)\n",
        "After calling removeAll(source,7,2), all the occurrences of 2 must be removed. Printing the array afterwards should give the output as: \n",
        " [ 10,30,50,0,0,0,0,0,0]\n"
      ]
    },
    {
      "cell_type": "code",
      "execution_count": null,
      "metadata": {
        "colab": {
          "base_uri": "https://localhost:8080/"
        },
        "id": "E1L8a9gz417O",
        "outputId": "2a06f83d-0458-41ac-ebfa-5b3c00fe2056"
      },
      "outputs": [
        {
          "data": {
            "text/plain": [
              "[10, 30, 50, 0, 0, 0, 0, 0, 0]"
            ]
          },
          "execution_count": 62,
          "metadata": {},
          "output_type": "execute_result"
        }
      ],
      "source": [
        "def removeAll(source, size, element):\n",
        "  count=0\n",
        "  length=len(source)\n",
        "  i=0\n",
        "  while i <(length):\n",
        "    if source[i]==element:\n",
        "      j=i\n",
        "      while j<length-1:\n",
        "        start=source[0]\n",
        "        source[j]=source[j+1]\n",
        "        source[j+1]=0\n",
        "        j=j+1\n",
        "       \n",
        "    else:\n",
        "      i=i+1\n",
        "      continue\n",
        "   \n",
        "  return source\n",
        "\n",
        "       \n",
        "   \n",
        "\n",
        "\n",
        "source = [10, 2, 30, 2, 50, 2, 2, 0, 0]\n",
        "removeAll(source, 7, 2)    \n"
      ]
    },
    {
      "cell_type": "code",
      "execution_count": null,
      "metadata": {
        "colab": {
          "base_uri": "https://localhost:8080/"
        },
        "id": "8FrjP91FkKT0",
        "outputId": "b31a44f6-1fc6-4883-9b7b-c654309aab1f"
      },
      "outputs": [
        {
          "name": "stdout",
          "output_type": "stream",
          "text": [
            "[10, 30, 50, 0, 0, 0, 0, 0, 0]\n"
          ]
        }
      ],
      "source": [
        "#alternative\n",
        "def removeAll(source, size, elements):\n",
        "    source_index = len(source)\n",
        "    new_list = [0] * source_index\n",
        "    x = 0\n",
        "    for values in source:\n",
        "        if values == elements:\n",
        "            continue\n",
        "        else:\n",
        "            new_list[x] = values\n",
        "            \n",
        "        x += 1\n",
        "        if x >= size:\n",
        "            break\n",
        "    source = new_list\n",
        "    print(source)\n",
        "\n",
        "\n",
        "source = [10, 2, 30, 2, 50, 2, 2, 0, 0]\n",
        "removeAll(source, 7, 2)"
      ]
    },
    {
      "cell_type": "code",
      "execution_count": null,
      "metadata": {
        "id": "IlkG85-rAzhV"
      },
      "outputs": [],
      "source": [
        "#alternative \n",
        "def removeAll(source, size, element):\n",
        "    while element in source:\n",
        "        for i in range(size):\n",
        "            if source[i]==element:\n",
        "                idx=i\n",
        "                break\n",
        "        for j in range(idx,len(source)-1):\n",
        "            source[j]=source[j+1]\n",
        "        source[len(source)-1]=0\n",
        "    print(source)\n",
        "        \n",
        "source=[10,2,30,2,50,2,2,0,0]\n",
        "size=7\n",
        "element=2\n",
        "removeAll(source, size, element)"
      ]
    },
    {
      "cell_type": "markdown",
      "metadata": {
        "id": "mCLw2SM9kKzw"
      },
      "source": [
        "7.Splitting an Array\n",
        "\n",
        "Suppose the elements of an array A containing positive integers, denote the weights in kilograms. And we have a beam balance. We want to put the weights on both pans of the balance in such a way that for some index 0 < i < A.length - 1, all values starting from A[0], A[1], upto A[ i - 1], should be on the left pan. And all values starting from A[ i ] upto A[ A.length - 1] should be on the right pan and the left and right pan should be balanced. If such an i exists, return true . Else, return false. \n",
        "Input: [1, 1, 1, 2, 1]\tOutput : true\n",
        "Explanation: (summation of [1, 1, 1] = summation of [2,1])\n",
        "Input: [2, 1, 1, 2, 1] Output: false\n",
        "Input: [10, 3, 1, 2, 10]  Output: true \n",
        "Explanation: (summation of [10, 3] = summation of [1,2,10]))\n"
      ]
    },
    {
      "cell_type": "code",
      "execution_count": null,
      "metadata": {
        "colab": {
          "base_uri": "https://localhost:8080/"
        },
        "id": "rFu1w8BJkQTM",
        "outputId": "60ac5fbb-9701-4656-ed11-abaeb647c452"
      },
      "outputs": [
        {
          "name": "stdout",
          "output_type": "stream",
          "text": [
            "True\n"
          ]
        }
      ],
      "source": [
        "# Assuming the length of the list are the same which is 5\n",
        "# def Splitting_array(A):\n",
        "#     zero_list = [0]\n",
        "#     empty_list = []\n",
        "#     A_length= len(A)\n",
        "#     logic = None\n",
        "#     for i in range(A_length):\n",
        "#         if i == 0:\n",
        "#             zero_list[i] = A[i]\n",
        "#             empty_list = A[i+1:(A_length)]\n",
        "#             if sum(zero_list) == sum(empty_list):\n",
        "#                 logic = True\n",
        "#                 break\n",
        "#             else:\n",
        "#                 zero_list = []\n",
        "#                 logic = False\n",
        "#         else:\n",
        "#             zero_list = A[0:i+1]\n",
        "#             empty_list = A[i + 1:(A_length)]\n",
        "#             if sum(zero_list) == sum(empty_list):\n",
        "#                 logic = True\n",
        "#                 break\n",
        "#             else:\n",
        "#                 logic = False\n",
        "#     print(logic)\n",
        "# A = [1, 1, 1, 2, 1] \n",
        "# Splitting_array(A)\n",
        "\n",
        "  "
      ]
    },
    {
      "cell_type": "code",
      "source": [
        "def Splitting_array(A):\n",
        "  length=len(A)\n",
        "  for i in range(length):\n",
        "    add1=0\n",
        "    add2=0\n",
        "    for j in range(0,i+1):\n",
        "      add1+=A[j]\n",
        "    for k in range(i+1,length):\n",
        "      add2+=A[k]\n",
        "\n",
        "    if add1==add2:\n",
        "      return True\n",
        "  return False\n",
        "\n",
        "print(Splitting_array([2, 1, 1, 2, 1]))\n",
        "print(Splitting_array([10, 3, 1, 2, 10]))"
      ],
      "metadata": {
        "colab": {
          "base_uri": "https://localhost:8080/"
        },
        "id": "_WNOBTBwKSq4",
        "outputId": "486cf901-5035-49b1-9a5b-a43593308a93"
      },
      "execution_count": null,
      "outputs": [
        {
          "output_type": "stream",
          "name": "stdout",
          "text": [
            "False\n",
            "True\n"
          ]
        }
      ]
    },
    {
      "cell_type": "code",
      "execution_count": null,
      "metadata": {
        "colab": {
          "base_uri": "https://localhost:8080/"
        },
        "id": "DxG8XHu4kl65",
        "outputId": "c4517506-bba7-45a4-c10b-ddd04b3f9e11"
      },
      "outputs": [
        {
          "name": "stdout",
          "output_type": "stream",
          "text": [
            "True\n"
          ]
        }
      ],
      "source": [
        "#alternative \n",
        "\n",
        "def balance(x):\n",
        "    sum1=0\n",
        "    sum2=0\n",
        "    flag=False\n",
        "    for i in range(len(x)):\n",
        "        for j in range(0,i):\n",
        "            sum1+=x[j]\n",
        "        for k in range(i,len(x)):\n",
        "            sum2+=x[k]\n",
        "        if sum1==sum2:\n",
        "            flag=True\n",
        "        else:\n",
        "            sum1=0\n",
        "            sum2=0\n",
        "    if flag==True:\n",
        "        return True\n",
        "    else:\n",
        "        return False\n",
        "    \n",
        "x=[10, 3, 1, 2, 10]\n",
        "print(balance(x))"
      ]
    },
    {
      "cell_type": "markdown",
      "metadata": {
        "id": "9apJBsu3zVxk"
      },
      "source": [
        "8.Array series\n",
        "Write a method that takes an integer value n as a parameter. Inside the method, you should create an array of length n squared (n*n) and fill the array with the following pattern. Return the array at the end and print it.\n",
        "If,\n",
        "n=2: { 0,1,   2,1 } (spaces have been added to show two distinct groups).\n",
        "n=3 : { 0, 0, 1,    0, 2, 1,    3, 2, 1 } ((spaces have been added to show three distinct \n",
        "groups).\n",
        "n=4 : {0, 0, 0, 1,   0, 0, 2, 1,    0, 3, 2, 1,   4, 3, 2, 1}  (spaces have been added to show four distinct groups).\n"
      ]
    },
    {
      "cell_type": "code",
      "execution_count": null,
      "metadata": {
        "colab": {
          "base_uri": "https://localhost:8080/"
        },
        "id": "fqZJpFF20Z5g",
        "outputId": "48bbdb8e-ba81-4f82-cade-fc1abad42a29"
      },
      "outputs": [
        {
          "name": "stdout",
          "output_type": "stream",
          "text": [
            "Please input a number: n= 2\n",
            "[0, 1, 2, 1]\n"
          ]
        }
      ],
      "source": [
        "def array_series(n):\n",
        "    n_squared = n*n\n",
        "    new_array = [0]*n_squared\n",
        "    x = 1\n",
        "    while x <= n:\n",
        "        y = 1\n",
        "        while y <= x:\n",
        "            new_array[(x*n)-y] = y\n",
        "            y += 1\n",
        "        x += 1\n",
        "    return new_array\n",
        "\n",
        "n = int(input(\"Please input a number: n= \"))\n",
        "print(array_series(n))"
      ]
    },
    {
      "cell_type": "code",
      "execution_count": null,
      "metadata": {
        "colab": {
          "base_uri": "https://localhost:8080/"
        },
        "id": "Dz9_XzmhBi9t",
        "outputId": "7fb10a65-1768-4285-c4e1-ed5be9abc4c6"
      },
      "outputs": [
        {
          "name": "stdout",
          "output_type": "stream",
          "text": [
            "[0, 0, 1, 0, 2, 1, 3, 2, 1]\n"
          ]
        }
      ],
      "source": [
        "# alternative \n",
        "# n*n-1\n",
        "# (n-1)*(n-1)\n",
        "# ](n-1)*2+1\n",
        "# (n-2)(n-1)\n",
        "\n",
        "def array_series(n):\n",
        "    a=[0]*(n*n)\n",
        "    for i in range((n-1)*(n-1),len(a),n):\n",
        "        a[i]=n-1\n",
        "    for i in range(n*(n-1),len(a),n):\n",
        "        a[i]=n\n",
        "    for i in range(n-1,len(a),n):\n",
        "        a[i]=n-2\n",
        "    print(a)\n",
        "\n",
        "array_series(3)"
      ]
    },
    {
      "cell_type": "markdown",
      "metadata": {
        "id": "HPA6ze5A0p33"
      },
      "source": [
        "9.Max Bunch Count\n",
        "A \"bunch\" in an array is a consecutive chain of two or more adjacent elements of the same value. Write a method that returns the number of elements in the largest bunch found in the given array.\n",
        "Input: [1, 2, 2, 3, 4, 4, 4]   Output: 3\n",
        "Explanation: There are two bunches here {2,2} and {4,4,4}. The largest bunch is {4,4,4} containing 3 elements so 3 is returned.\n",
        "Input: [1,1,2, 2, 1, 1,1,1] Output:4\n",
        " Explanation: There are three bunches here {1,1} and {2,2} and {1,1,1,1}. The largest bunch is {1,1,1,1} containing 4 elements so 4 is returned.\n"
      ]
    },
    {
      "cell_type": "code",
      "execution_count": null,
      "metadata": {
        "colab": {
          "base_uri": "https://localhost:8080/"
        },
        "id": "8TABNhc90wo3",
        "outputId": "ead1315d-498d-4ff7-e686-e0f00d1c0075"
      },
      "outputs": [
        {
          "name": "stdout",
          "output_type": "stream",
          "text": [
            "3\n"
          ]
        }
      ],
      "source": [
        "def Max_Bunch_Count(new_array):\n",
        "    sum_list = []\n",
        "    first = new_array[0]\n",
        "    c = 0\n",
        "    for values in new_array:\n",
        "        if values == first:\n",
        "            c += 1\n",
        "        else:\n",
        "            first = values\n",
        "            c = 1\n",
        "        sum_list.append(c)\n",
        "    print(max(sum_list))\n",
        "\n",
        "\n",
        "new_array = [1, 2, 2, 3, 4, 4, 4]\n",
        "Max_Bunch_Count(new_array)"
      ]
    },
    {
      "cell_type": "markdown",
      "metadata": {
        "id": "5-m7G6-N1fvc"
      },
      "source": [
        "10 Repetition\n",
        " Write a method that takes in an array as a parameter and counts the repetition of each element. That is, if an element has appeared in the array more than once, then its ‘repetition’ is its number of occurrences. The method returns true if there are at least two elements with the same number of ‘repetition’. Otherwise, return false.\n",
        "Input: {4,5,6,6,4,3,6,4} Output: True\n",
        "Explanation: Two numbers repeat in this array: 4 and 6. 4 has a repetition of 3, 6 has a repetition of 3. Since two numbers have the same repetition output is True.\n",
        "Input: {3,4,6,3,4,7,4,6,8,6,6} Output: False\n",
        "Explanation: Three numbers repeat in this array:3,4 and 6 .3 has a repetition of 2, 4 has a repetition of 3, 6 has a repetition of 4. Since no two numbers have the same repetition output is False.\n",
        "\n"
      ]
    },
    {
      "cell_type": "code",
      "execution_count": null,
      "metadata": {
        "colab": {
          "base_uri": "https://localhost:8080/"
        },
        "id": "faBsomKJ8M1Y",
        "outputId": "bad2788b-2682-4fe4-da55-aa3bd0a03776"
      },
      "outputs": [
        {
          "name": "stdout",
          "output_type": "stream",
          "text": [
            "True\n"
          ]
        }
      ],
      "source": [
        "def repetition(new_array):\n",
        "    new_list = []\n",
        "    dictionary = {x: new_array.count(x) for x in new_array} # did not understand this line\n",
        "    for keys, values in dictionary.items():\n",
        "        if values > 1:\n",
        "            new_list.append(values)\n",
        "    if len(new_list) == len(set(new_list)):\n",
        "        print(\"False\")\n",
        "    else:\n",
        "        print(\"True\")\n",
        "\n",
        "new_array = [4, 5, 6, 6, 4, 3, 6, 4]\n",
        "repetition(new_array)"
      ]
    },
    {
      "cell_type": "code",
      "execution_count": null,
      "metadata": {
        "colab": {
          "base_uri": "https://localhost:8080/",
          "height": 366
        },
        "id": "m1nO_Jviwm5P",
        "outputId": "9797f3f8-05f1-4abf-c6a4-90a7bddf9927"
      },
      "outputs": [
        {
          "ename": "TypeError",
          "evalue": "ignored",
          "output_type": "error",
          "traceback": [
            "\u001b[0;31m---------------------------------------------------------------------------\u001b[0m",
            "\u001b[0;31mTypeError\u001b[0m                                 Traceback (most recent call last)",
            "\u001b[0;32m<ipython-input-19-2f11ee9fac38>\u001b[0m in \u001b[0;36m<module>\u001b[0;34m\u001b[0m\n\u001b[1;32m     20\u001b[0m           \u001b[0;32mreturn\u001b[0m \u001b[0;32mTrue\u001b[0m\u001b[0;34m\u001b[0m\u001b[0;34m\u001b[0m\u001b[0m\n\u001b[1;32m     21\u001b[0m       \u001b[0;32mreturn\u001b[0m \u001b[0;32mFalse\u001b[0m\u001b[0;34m\u001b[0m\u001b[0;34m\u001b[0m\u001b[0m\n\u001b[0;32m---> 22\u001b[0;31m \u001b[0mprint\u001b[0m\u001b[0;34m(\u001b[0m\u001b[0mrepetition\u001b[0m\u001b[0;34m(\u001b[0m\u001b[0;34m{\u001b[0m\u001b[0;36m4\u001b[0m\u001b[0;34m,\u001b[0m\u001b[0;36m5\u001b[0m\u001b[0;34m,\u001b[0m\u001b[0;36m6\u001b[0m\u001b[0;34m,\u001b[0m\u001b[0;36m6\u001b[0m\u001b[0;34m,\u001b[0m\u001b[0;36m4\u001b[0m\u001b[0;34m,\u001b[0m\u001b[0;36m3\u001b[0m\u001b[0;34m,\u001b[0m\u001b[0;36m6\u001b[0m\u001b[0;34m,\u001b[0m\u001b[0;36m4\u001b[0m\u001b[0;34m}\u001b[0m\u001b[0;34m)\u001b[0m\u001b[0;34m)\u001b[0m\u001b[0;34m\u001b[0m\u001b[0;34m\u001b[0m\u001b[0m\n\u001b[0m\u001b[1;32m     23\u001b[0m \u001b[0;34m\u001b[0m\u001b[0m\n\u001b[1;32m     24\u001b[0m \u001b[0;34m\u001b[0m\u001b[0m\n",
            "\u001b[0;32m<ipython-input-19-2f11ee9fac38>\u001b[0m in \u001b[0;36mrepetition\u001b[0;34m(a)\u001b[0m\n\u001b[1;32m      3\u001b[0m   \u001b[0mtemp\u001b[0m\u001b[0;34m=\u001b[0m\u001b[0;34m[\u001b[0m\u001b[0;36m0\u001b[0m\u001b[0;34m]\u001b[0m\u001b[0;34m\u001b[0m\u001b[0;34m\u001b[0m\u001b[0m\n\u001b[1;32m      4\u001b[0m   \u001b[0;32mfor\u001b[0m \u001b[0mi\u001b[0m \u001b[0;32min\u001b[0m \u001b[0mrange\u001b[0m\u001b[0;34m(\u001b[0m\u001b[0mlen\u001b[0m\u001b[0;34m(\u001b[0m\u001b[0ma\u001b[0m\u001b[0;34m)\u001b[0m\u001b[0;34m)\u001b[0m\u001b[0;34m:\u001b[0m\u001b[0;34m\u001b[0m\u001b[0;34m\u001b[0m\u001b[0m\n\u001b[0;32m----> 5\u001b[0;31m     \u001b[0;32mif\u001b[0m \u001b[0ma\u001b[0m\u001b[0;34m[\u001b[0m\u001b[0mi\u001b[0m\u001b[0;34m]\u001b[0m \u001b[0;34m!=\u001b[0m \u001b[0mtemp\u001b[0m\u001b[0;34m[\u001b[0m\u001b[0mc\u001b[0m\u001b[0;34m]\u001b[0m\u001b[0;34m:\u001b[0m\u001b[0;34m\u001b[0m\u001b[0;34m\u001b[0m\u001b[0m\n\u001b[0m\u001b[1;32m      6\u001b[0m       \u001b[0mtemp\u001b[0m\u001b[0;34m[\u001b[0m\u001b[0mc\u001b[0m\u001b[0;34m]\u001b[0m\u001b[0;34m=\u001b[0m\u001b[0ma\u001b[0m\u001b[0;34m[\u001b[0m\u001b[0mi\u001b[0m\u001b[0;34m]\u001b[0m\u001b[0;34m\u001b[0m\u001b[0;34m\u001b[0m\u001b[0m\n\u001b[1;32m      7\u001b[0m       \u001b[0mc\u001b[0m\u001b[0;34m+=\u001b[0m\u001b[0;36m1\u001b[0m\u001b[0;34m\u001b[0m\u001b[0;34m\u001b[0m\u001b[0m\n",
            "\u001b[0;31mTypeError\u001b[0m: 'set' object is not subscriptable"
          ]
        }
      ],
      "source": [
        "def repetition(a):\n",
        "  c=0\n",
        "  temp=[0]\n",
        "  for i in range(len(a)):\n",
        "    if a[i] != temp[c]:\n",
        "      temp[c]=a[i]\n",
        "      c+=1\n",
        "\n",
        "  val=0\n",
        "  for i in range(c):\n",
        "    for k in range(len(a)):\n",
        "      if a[k]==temp[i]:\n",
        "        val+=1\n",
        "    temp[i]=val\n",
        "    val=0\n",
        "\n",
        "    for i in range(c):\n",
        "      for k in range(i+1,c):\n",
        "        if temp[i]==temp[k] and temp[k]!=1:\n",
        "          return True\n",
        "      return False\n",
        "print(repetition({4,5,6,6,4,3,6,4}))\n",
        "\n",
        "   "
      ]
    },
    {
      "cell_type": "code",
      "execution_count": null,
      "metadata": {
        "colab": {
          "base_uri": "https://localhost:8080/"
        },
        "id": "wAxPG1TP9CkB",
        "outputId": "1ec52a6d-31ce-4ad8-a105-8183e44cb3f2"
      },
      "outputs": [
        {
          "name": "stdout",
          "output_type": "stream",
          "text": [
            "True\n",
            "False\n"
          ]
        }
      ],
      "source": [
        "# def repeat(lis):\n",
        "#     flag = False\n",
        "#     check = [0]*len(lis)\n",
        "#     count_lis = [0]*len(lis)\n",
        "#     idx = 0\n",
        "#     for i in range(len(lis)):\n",
        "#         if check[i] == True:\n",
        "#             continue\n",
        "#         count = 1\n",
        "#         for j in range(i+1,len(lis)):\n",
        "#             if lis[i] == lis[j]:\n",
        "#                 check[j] = True\n",
        "#                 count += 1\n",
        "#         if count in count_lis:\n",
        "#             flag = True\n",
        "#             break\n",
        "#         if count != 1:\n",
        "#             count_lis[idx] = count\n",
        "#             idx += 1\n",
        "#     return flag\n",
        "\n",
        "# array = repeat([4,5,6,6,4,3,6,4])\n",
        "# print(array)\n",
        "\n",
        "# array = repeat([3,4,6,3,4,7,4,6,8,6,6])\n",
        "# print(array)"
      ]
    },
    {
      "cell_type": "code",
      "execution_count": null,
      "metadata": {
        "colab": {
          "background_save": true,
          "base_uri": "https://localhost:8080/"
        },
        "id": "P6M33CjWA4qo",
        "outputId": "64a92f36-7fd7-473f-848a-8e3a98d74569"
      },
      "outputs": [
        {
          "name": "stdout",
          "output_type": "stream",
          "text": [
            "True\n",
            "False\n"
          ]
        }
      ],
      "source": [
        "def repetition(lis):\n",
        "    flag = False\n",
        "    check = [0]*len(lis)\n",
        "    count_lis = [0]*len(lis)\n",
        "    idx = 0\n",
        "    for i in range(len(lis)):\n",
        "        if check[i] == True:\n",
        "            continue\n",
        "        count = 1\n",
        "        for j in range(i+1,len(lis)):\n",
        "            if lis[i] == lis[j]:\n",
        "                check[j] = True\n",
        "                count += 1\n",
        "        if count in count_lis:\n",
        "            return True\n",
        "            break\n",
        "        if count != 1:\n",
        "            count_lis[idx] = count\n",
        "            idx += 1\n",
        "    return False\n",
        "\n",
        "array = repeat([4,5,6,6,4,3,6,4])\n",
        "print(array)\n",
        "\n",
        "array = repeat([3,4,6,3,4,7,4,6,8,6,6])\n",
        "print(array)"
      ]
    }
  ],
  "metadata": {
    "colab": {
      "provenance": []
    },
    "kernelspec": {
      "display_name": "Python 3",
      "name": "python3"
    },
    "language_info": {
      "name": "python"
    }
  },
  "nbformat": 4,
  "nbformat_minor": 0
}